{
  "nbformat": 4,
  "nbformat_minor": 0,
  "metadata": {
    "colab": {
      "provenance": [],
      "authorship_tag": "ABX9TyPTvULBnzw/f98F8c29VJNn",
      "include_colab_link": true
    },
    "kernelspec": {
      "name": "python3",
      "display_name": "Python 3"
    },
    "language_info": {
      "name": "python"
    }
  },
  "cells": [
    {
      "cell_type": "markdown",
      "metadata": {
        "id": "view-in-github",
        "colab_type": "text"
      },
      "source": [
        "<a href=\"https://colab.research.google.com/github/Gauri-Dublish/my-repository/blob/main/Untitled0.ipynb\" target=\"_parent\"><img src=\"https://colab.research.google.com/assets/colab-badge.svg\" alt=\"Open In Colab\"/></a>"
      ]
    },
    {
      "cell_type": "code",
      "execution_count": null,
      "metadata": {
        "colab": {
          "base_uri": "https://localhost:8080/"
        },
        "id": "42HU9EqcmckF",
        "outputId": "e9660c5b-4ad5-41c8-c235-b1820f61ab2b"
      },
      "outputs": [
        {
          "output_type": "stream",
          "name": "stdout",
          "text": [
            "This is my first line of code in python\n"
          ]
        }
      ],
      "source": [
        "print(\"This is my first line of code in python\")"
      ]
    },
    {
      "cell_type": "code",
      "source": [
        "print(\"Hello\\nThis is in the next line\")"
      ],
      "metadata": {
        "colab": {
          "base_uri": "https://localhost:8080/"
        },
        "id": "gnhKg8-Honwd",
        "outputId": "c101f2ed-d7f6-4186-97c2-1baf4dd00a22"
      },
      "execution_count": null,
      "outputs": [
        {
          "output_type": "stream",
          "name": "stdout",
          "text": [
            "Hello\n",
            "This is in the next line\n"
          ]
        }
      ]
    },
    {
      "cell_type": "code",
      "source": [
        "a = 6\n",
        "b = 7\n",
        "#addition\n",
        "print( a + b )\n",
        "\n",
        "#subtraction\n",
        "print( a - b )\n",
        "\n",
        "#multiplication\n",
        "print( a * b )\n",
        "\n",
        "#division\n",
        "print( a / b )\n",
        "\n",
        "print( a // b )\n",
        "\n",
        "#remainder\n",
        "print( a % b )\n",
        "\n",
        "#exponential\n",
        "print( a ** b )"
      ],
      "metadata": {
        "colab": {
          "base_uri": "https://localhost:8080/"
        },
        "id": "_7dyQm3Eo-VL",
        "outputId": "cc1d120f-124c-4779-a17e-cc04a90e8ee7"
      },
      "execution_count": null,
      "outputs": [
        {
          "output_type": "stream",
          "name": "stdout",
          "text": [
            "13\n",
            "-1\n",
            "42\n",
            "0.8571428571428571\n",
            "0\n",
            "6\n",
            "279936\n"
          ]
        }
      ]
    },
    {
      "cell_type": "code",
      "source": [
        "#BEDMAS\n",
        "print(5 * 5 - 9 + 6 / 7)"
      ],
      "metadata": {
        "colab": {
          "base_uri": "https://localhost:8080/"
        },
        "id": "ky9DRi0Fo-YN",
        "outputId": "c594754b-e46f-498d-e277-de311a2807b2"
      },
      "execution_count": null,
      "outputs": [
        {
          "output_type": "stream",
          "name": "stdout",
          "text": [
            "16.857142857142858\n"
          ]
        }
      ]
    },
    {
      "cell_type": "code",
      "source": [
        "inc = 9\n",
        "inc += 1\n",
        "print(inc)\n",
        "inc -= 2\n",
        "print(inc)"
      ],
      "metadata": {
        "colab": {
          "base_uri": "https://localhost:8080/"
        },
        "id": "kib7DHAMsTfa",
        "outputId": "3c676e41-0582-4308-a8fe-0eedcb584c95"
      },
      "execution_count": null,
      "outputs": [
        {
          "output_type": "stream",
          "name": "stdout",
          "text": [
            "10\n",
            "8\n"
          ]
        }
      ]
    },
    {
      "cell_type": "code",
      "source": [
        "#Logical\n",
        "print(3 < 4)         #less than 4 should return True\n",
        "print(True and False)\n",
        "print(True and False)\n",
        "print(a != b)\n",
        "print(True and not False)"
      ],
      "metadata": {
        "colab": {
          "base_uri": "https://localhost:8080/"
        },
        "id": "KHb4D9irsTiW",
        "outputId": "331f1cf0-89fc-47a7-8348-70efec4c2007"
      },
      "execution_count": null,
      "outputs": [
        {
          "output_type": "stream",
          "name": "stdout",
          "text": [
            "True\n",
            "False\n",
            "False\n",
            "True\n",
            "True\n"
          ]
        }
      ]
    },
    {
      "cell_type": "code",
      "source": [
        "some_sentence = \"There is a space at the end   \"\n",
        "print(some_sentence)\n",
        "print(some_sentence.rstrip())"
      ],
      "metadata": {
        "colab": {
          "base_uri": "https://localhost:8080/"
        },
        "outputId": "c421d02f-3b95-4dfd-d252-9a2f3c121548",
        "id": "snFWUspYwQP0"
      },
      "execution_count": null,
      "outputs": [
        {
          "output_type": "stream",
          "name": "stdout",
          "text": [
            "There is a space at the end   \n",
            "There is a space at the end\n"
          ]
        }
      ]
    },
    {
      "cell_type": "code",
      "source": [
        "#rstrip() - remove whitespaces from the right\n",
        "some_sentence = \"There is a space at the end   \"\n",
        "print(some_sentence)\n",
        "print(some_sentence.rstrip())"
      ],
      "metadata": {
        "colab": {
          "base_uri": "https://localhost:8080/"
        },
        "id": "OhW4HPLbuPC6",
        "outputId": "fcc063bb-8c24-487c-e20f-c768f0672818"
      },
      "execution_count": null,
      "outputs": [
        {
          "output_type": "stream",
          "name": "stdout",
          "text": [
            "There is a space at the end   \n",
            "There is a space at the end\n"
          ]
        }
      ]
    },
    {
      "cell_type": "code",
      "source": [
        "increment = '4%'\n",
        "print(increment.rstrip('%'))"
      ],
      "metadata": {
        "colab": {
          "base_uri": "https://localhost:8080/"
        },
        "id": "B16xtlPev6P0",
        "outputId": "689fce5e-6a48-476b-86b3-bb880b27790a"
      },
      "execution_count": null,
      "outputs": [
        {
          "output_type": "stream",
          "name": "stdout",
          "text": [
            "4\n"
          ]
        }
      ]
    },
    {
      "cell_type": "code",
      "source": [
        "#lstrip() - remove whitescpaces from the left\n",
        "\n",
        "start = \"    There is space at the start\"\n",
        "print(start)\n",
        "print(start.lstrip())"
      ],
      "metadata": {
        "colab": {
          "base_uri": "https://localhost:8080/"
        },
        "id": "q1Pc35iwv6mN",
        "outputId": "0c96df09-8904-4031-a351-171b52b5024f"
      },
      "execution_count": null,
      "outputs": [
        {
          "output_type": "stream",
          "name": "stdout",
          "text": [
            "    There is space at the start\n",
            "There is space at the start\n"
          ]
        }
      ]
    },
    {
      "cell_type": "code",
      "source": [
        "#strip() - remove whitespaces from both the ends\n",
        "spaces = \"      Trim whitespaces  \"\n",
        "print(spaces)\n",
        "print(spaces.strip())"
      ],
      "metadata": {
        "colab": {
          "base_uri": "https://localhost:8080/"
        },
        "id": "WoARIhbByGPH",
        "outputId": "763f3ec2-a1f3-49b0-efac-9eefa1945504"
      },
      "execution_count": null,
      "outputs": [
        {
          "output_type": "stream",
          "name": "stdout",
          "text": [
            "      Trim whitespaces  \n",
            "Trim whitespaces\n"
          ]
        }
      ]
    },
    {
      "cell_type": "code",
      "source": [
        "num_with_chars = '*444#'\n",
        "print(num_with_chars.rstrip('#').lstrip('*'))"
      ],
      "metadata": {
        "colab": {
          "base_uri": "https://localhost:8080/"
        },
        "id": "X6caC9DeyGSJ",
        "outputId": "6adebf3e-40cf-4ff3-e396-66bb7400ce99"
      },
      "execution_count": null,
      "outputs": [
        {
          "output_type": "stream",
          "name": "stdout",
          "text": [
            "444\n"
          ]
        }
      ]
    },
    {
      "cell_type": "code",
      "source": [
        "#Remove the leading spaces from the string input_str='   This is my first code'\n",
        "\n",
        "# Reading the input as a string;\n",
        "import ast, sys\n",
        "input_str = sys.stdin.read()\n",
        "\n",
        "input_str='    This is my first code'\n",
        "print(input_str)\n",
        "print(input_str.lstrip())\n",
        "final_str = input_str\n",
        "print(final_str.strip())"
      ],
      "metadata": {
        "colab": {
          "base_uri": "https://localhost:8080/"
        },
        "id": "eCOywcPFzH21",
        "outputId": "af8f89ea-eeb5-406a-bdf6-0e66ede58f8d"
      },
      "execution_count": null,
      "outputs": [
        {
          "output_type": "stream",
          "name": "stdout",
          "text": [
            "    This is my first code\n",
            "This is my first code\n",
            "This is my first code\n"
          ]
        }
      ]
    },
    {
      "cell_type": "code",
      "source": [
        "#Indexing and Slicing\n",
        "\n",
        "val = \"2 apples\"\n",
        "no_of_apples = val[0]\n",
        "print('number of apples is', no_of_apples)"
      ],
      "metadata": {
        "colab": {
          "base_uri": "https://localhost:8080/"
        },
        "id": "quqf5Jyd3ktM",
        "outputId": "5381d1e8-7b58-48a4-baf2-91ec9168d0d9"
      },
      "execution_count": null,
      "outputs": [
        {
          "output_type": "stream",
          "name": "stdout",
          "text": [
            "number of apples is 2\n"
          ]
        }
      ]
    },
    {
      "cell_type": "code",
      "source": [
        "what = val[2:]\n",
        "print(what)"
      ],
      "metadata": {
        "colab": {
          "base_uri": "https://localhost:8080/"
        },
        "id": "WqZ_qjV93vkr",
        "outputId": "213e5e0b-92cc-4469-ea38-33701862e4ff"
      },
      "execution_count": null,
      "outputs": [
        {
          "output_type": "stream",
          "name": "stdout",
          "text": [
            "apples\n"
          ]
        }
      ]
    },
    {
      "cell_type": "code",
      "source": [
        "#slicing by specifying start and end index\n",
        "print(val[2:5])"
      ],
      "metadata": {
        "colab": {
          "base_uri": "https://localhost:8080/"
        },
        "id": "F4eE1L4z3kwl",
        "outputId": "fef20815-dd36-492e-95dd-c3a1161903c0"
      },
      "execution_count": null,
      "outputs": [
        {
          "output_type": "stream",
          "name": "stdout",
          "text": [
            "app\n"
          ]
        }
      ]
    },
    {
      "cell_type": "code",
      "source": [
        "batch = \"5 oranges 3 monkeys n\"\n",
        "fruits = batch[ :9]\n",
        "print(fruits)"
      ],
      "metadata": {
        "colab": {
          "base_uri": "https://localhost:8080/"
        },
        "id": "ZtYF1Uu64htJ",
        "outputId": "6e7f2164-5d58-427b-b5b0-7f6a94e9be86"
      },
      "execution_count": null,
      "outputs": [
        {
          "output_type": "stream",
          "name": "stdout",
          "text": [
            "5 oranges\n"
          ]
        }
      ]
    },
    {
      "cell_type": "code",
      "source": [
        "nums = '123456789'\n",
        "even_nums = nums[1::2]\n",
        "print(even_nums)"
      ],
      "metadata": {
        "colab": {
          "base_uri": "https://localhost:8080/"
        },
        "id": "EVamKG-u4hw5",
        "outputId": "d25c82c6-1737-4f99-d73a-185c5f615533"
      },
      "execution_count": null,
      "outputs": [
        {
          "output_type": "stream",
          "name": "stdout",
          "text": [
            "2468\n"
          ]
        }
      ]
    },
    {
      "cell_type": "code",
      "source": [
        "odd_nums = nums[0::2]\n",
        "print(odd_nums)"
      ],
      "metadata": {
        "colab": {
          "base_uri": "https://localhost:8080/"
        },
        "id": "sWvQLqqC4h2Y",
        "outputId": "598579bb-f501-45ee-d495-fe987077d35c"
      },
      "execution_count": null,
      "outputs": [
        {
          "output_type": "stream",
          "name": "stdout",
          "text": [
            "13579\n"
          ]
        }
      ]
    },
    {
      "cell_type": "code",
      "source": [
        "A = 'Data'\n",
        "B = \"Analysis\"\n",
        "C = \"Pandas\"\n",
        "\n",
        "print(\"{0} {1} using {2}\".format(A,B,C))"
      ],
      "metadata": {
        "colab": {
          "base_uri": "https://localhost:8080/"
        },
        "id": "-LNxb9rU5m56",
        "outputId": "61afd18e-4b83-4e90-c947-276bf536d9c8"
      },
      "execution_count": null,
      "outputs": [
        {
          "output_type": "stream",
          "name": "stdout",
          "text": [
            "Data Analysis using Pandas\n"
          ]
        }
      ]
    },
    {
      "cell_type": "markdown",
      "source": [
        "Split the string input_str = 'Kumar_Ravi_003' to the person's second name, first name and unique customer code. In this example, second_name='Kumar', first_name='Ravi', customer_code='003'.\n",
        "\n",
        "\n",
        "A sample output of the input 'Kumar_Ravi_003' is:\n",
        "\n",
        "Ravi\n",
        "Kumar\n",
        "003"
      ],
      "metadata": {
        "id": "JKDXxAtQ6MlX"
      }
    },
    {
      "cell_type": "code",
      "source": [
        "import ast,sys\n",
        "input_str = sys.stdin.read()\n",
        "first_name = input_str[6:10:1]\n",
        "second_name = input_str[0:5:1]\n",
        "customer_code = input_str[11::1]\n",
        "print(first_name)\n",
        "print(second_name)\n",
        "print(customer_code)"
      ],
      "metadata": {
        "colab": {
          "base_uri": "https://localhost:8080/"
        },
        "id": "lkEnKiA8ZfYQ",
        "outputId": "e053bda8-1639-4aa9-8a77-d60de197a217"
      },
      "execution_count": null,
      "outputs": [
        {
          "output_type": "stream",
          "name": "stdout",
          "text": [
            "\n",
            "\n",
            "\n"
          ]
        }
      ]
    },
    {
      "cell_type": "code",
      "source": [
        "initial_list = []\n",
        "print(initial_list)"
      ],
      "metadata": {
        "colab": {
          "base_uri": "https://localhost:8080/"
        },
        "id": "DJ3IDSMoqcb5",
        "outputId": "ef1e345f-f967-4a15-c95f-1c95f1640bf3"
      },
      "execution_count": null,
      "outputs": [
        {
          "output_type": "stream",
          "name": "stdout",
          "text": [
            "[]\n"
          ]
        }
      ]
    },
    {
      "cell_type": "code",
      "source": [
        "DA_languages = ['R','Python','SAS','Scala', 42]\n",
        "print(DA_languages)"
      ],
      "metadata": {
        "colab": {
          "base_uri": "https://localhost:8080/"
        },
        "id": "XV30EY9NrFCl",
        "outputId": "5e0f8fcf-beda-4dbb-8a9d-0c138f64cbd4"
      },
      "execution_count": null,
      "outputs": [
        {
          "output_type": "stream",
          "name": "stdout",
          "text": [
            "['R', 'Python', 'SAS', 'Scala', 42]\n"
          ]
        }
      ]
    },
    {
      "cell_type": "code",
      "source": [
        "print(DA_languages[0])"
      ],
      "metadata": {
        "colab": {
          "base_uri": "https://localhost:8080/"
        },
        "id": "--21YTMdrFGX",
        "outputId": "d29afec7-b58a-43b8-be21-f492e3bb96ad"
      },
      "execution_count": null,
      "outputs": [
        {
          "output_type": "stream",
          "name": "stdout",
          "text": [
            "R\n"
          ]
        }
      ]
    },
    {
      "cell_type": "code",
      "source": [
        "print(DA_languages[1:3])"
      ],
      "metadata": {
        "colab": {
          "base_uri": "https://localhost:8080/"
        },
        "id": "cJniQIzArFIy",
        "outputId": "3ac7370f-cc3f-4a82-89cc-ea7c3fb6264e"
      },
      "execution_count": null,
      "outputs": [
        {
          "output_type": "stream",
          "name": "stdout",
          "text": [
            "['Python', 'SAS']\n"
          ]
        }
      ]
    },
    {
      "cell_type": "code",
      "source": [
        "print(DA_languages[0:2])"
      ],
      "metadata": {
        "colab": {
          "base_uri": "https://localhost:8080/"
        },
        "id": "WFMoH2Idt_1z",
        "outputId": "5e94096e-c9ce-4ee0-9f44-43d37603d2e9"
      },
      "execution_count": null,
      "outputs": [
        {
          "output_type": "stream",
          "name": "stdout",
          "text": [
            "['R', 'Python']\n"
          ]
        }
      ]
    },
    {
      "cell_type": "code",
      "source": [
        "print(DA_languages[-1])"
      ],
      "metadata": {
        "colab": {
          "base_uri": "https://localhost:8080/"
        },
        "id": "kv6ZBNLEt_5g",
        "outputId": "c7333ab5-c41b-4a32-e859-d3f2c1d9eb9e"
      },
      "execution_count": null,
      "outputs": [
        {
          "output_type": "stream",
          "name": "stdout",
          "text": [
            "42\n"
          ]
        }
      ]
    },
    {
      "cell_type": "code",
      "source": [
        "print(DA_languages[2:])"
      ],
      "metadata": {
        "colab": {
          "base_uri": "https://localhost:8080/"
        },
        "id": "BoK415oWt_73",
        "outputId": "d79ab22e-ddd8-4b9a-a893-1d3566599268"
      },
      "execution_count": null,
      "outputs": [
        {
          "output_type": "stream",
          "name": "stdout",
          "text": [
            "['SAS', 'Scala', 42]\n"
          ]
        }
      ]
    },
    {
      "cell_type": "code",
      "source": [
        "print(DA_languages[:-3])"
      ],
      "metadata": {
        "colab": {
          "base_uri": "https://localhost:8080/"
        },
        "id": "eTmJMP-YxrB3",
        "outputId": "22a8f82b-985c-4c6f-81b2-c809c8bdde89"
      },
      "execution_count": null,
      "outputs": [
        {
          "output_type": "stream",
          "name": "stdout",
          "text": [
            "['R', 'Python']\n"
          ]
        }
      ]
    },
    {
      "cell_type": "code",
      "source": [
        "DA_languages.pop()"
      ],
      "metadata": {
        "colab": {
          "base_uri": "https://localhost:8080/"
        },
        "id": "wELtTr2UxrFq",
        "outputId": "c110f335-3c09-49c0-eeae-b6bcff6a0f53"
      },
      "execution_count": null,
      "outputs": [
        {
          "output_type": "execute_result",
          "data": {
            "text/plain": [
              "42"
            ]
          },
          "metadata": {},
          "execution_count": 15
        }
      ]
    },
    {
      "cell_type": "code",
      "source": [
        "DA_languages.pop(0)\n",
        "print(DA_languages)"
      ],
      "metadata": {
        "colab": {
          "base_uri": "https://localhost:8080/"
        },
        "id": "wz_bnUT0KnbR",
        "outputId": "c46ccfbc-56db-4024-edef-abe5053ba6d9"
      },
      "execution_count": null,
      "outputs": [
        {
          "output_type": "stream",
          "name": "stdout",
          "text": [
            "['Python', 'SAS', 'Scala']\n"
          ]
        }
      ]
    },
    {
      "cell_type": "code",
      "source": [
        "DA_languages.append('R')\n",
        "DA_languages.remove('R')\n",
        "print(DA_languages)"
      ],
      "metadata": {
        "colab": {
          "base_uri": "https://localhost:8080/"
        },
        "id": "6SnLuS-lLU9N",
        "outputId": "168fe08c-8b13-4771-9bf4-4136dccd516c"
      },
      "execution_count": null,
      "outputs": [
        {
          "output_type": "stream",
          "name": "stdout",
          "text": [
            "['Python', 'SAS', 'Scala', 42, 'R', 'R']\n"
          ]
        }
      ]
    },
    {
      "cell_type": "code",
      "source": [
        "import ast,sys\n",
        "input_list = (sys.stdin.read()).split(',')\n",
        "input_list = ['SAS','R','PYTHON','SPSS']\n",
        "input_list.remove('SPSS')\n",
        "input_list.append('SPARK')\n",
        "print(input_list)"
      ],
      "metadata": {
        "colab": {
          "base_uri": "https://localhost:8080/"
        },
        "id": "UWbgpIkWZUs9",
        "outputId": "11f41920-5ca6-46af-a714-2ac090555afc"
      },
      "execution_count": null,
      "outputs": [
        {
          "output_type": "stream",
          "name": "stdout",
          "text": [
            "['SAS', 'R', 'PYTHON', 'SPARK']\n"
          ]
        }
      ]
    },
    {
      "cell_type": "code",
      "source": [
        "new_list = DA_languages[:]\n",
        "print(id(new_list))"
      ],
      "metadata": {
        "colab": {
          "base_uri": "https://localhost:8080/"
        },
        "id": "AHF9q4RAcRqz",
        "outputId": "39852af8-88b5-4df3-d322-833e400ad560"
      },
      "execution_count": null,
      "outputs": [
        {
          "output_type": "stream",
          "name": "stdout",
          "text": [
            "135884616947776\n"
          ]
        }
      ]
    },
    {
      "cell_type": "code",
      "source": [
        "another_list = DA_languages.copy()\n",
        "print(id(another_list))"
      ],
      "metadata": {
        "colab": {
          "base_uri": "https://localhost:8080/"
        },
        "id": "agIxFQJycR4p",
        "outputId": "77cfee26-675a-49c9-eff2-f64fc183279a"
      },
      "execution_count": null,
      "outputs": [
        {
          "output_type": "stream",
          "name": "stdout",
          "text": [
            "135884616954176\n"
          ]
        }
      ]
    },
    {
      "cell_type": "code",
      "source": [
        "a_sentence = \"Hi Saif, this is to inform you that I'm not well today.\"\n",
        "print(a_sentence)"
      ],
      "metadata": {
        "colab": {
          "base_uri": "https://localhost:8080/"
        },
        "id": "-11jL5qlef0O",
        "outputId": "2d08a076-c18f-4e20-c6e7-1a448c4b5d78"
      },
      "execution_count": null,
      "outputs": [
        {
          "output_type": "stream",
          "name": "stdout",
          "text": [
            "Hi Saif, this is to inform you that I'm not well today.\n"
          ]
        }
      ]
    },
    {
      "cell_type": "code",
      "source": [
        "words_in_sentence = a_sentence.split()\n",
        "print(words_in_sentence)"
      ],
      "metadata": {
        "colab": {
          "base_uri": "https://localhost:8080/"
        },
        "id": "U2-jZ1hGfJX0",
        "outputId": "ed8ba8fe-96b9-4dae-d8bb-d017b46bf9c7"
      },
      "execution_count": null,
      "outputs": [
        {
          "output_type": "stream",
          "name": "stdout",
          "text": [
            "['Hi', 'Saif,', 'this', 'is', 'to', 'inform', 'you', 'that', \"I'm\", 'not', 'well', 'today.']\n"
          ]
        }
      ]
    },
    {
      "cell_type": "code",
      "source": [
        "a_mail = \"Hi Saif, this is to inform you that I'm not well today. I won't be coming to office, but I'm available on call. Thanks\""
      ],
      "metadata": {
        "id": "4XOT7eDWmwq6"
      },
      "execution_count": null,
      "outputs": []
    },
    {
      "cell_type": "code",
      "source": [
        "sentences_in_mail = a_mail.split('.')\n",
        "print(sentences_in_mail)"
      ],
      "metadata": {
        "colab": {
          "base_uri": "https://localhost:8080/"
        },
        "id": "H_Kac5w3k5fF",
        "outputId": "08c7cc52-58b7-46d5-8d45-8e31278aa975"
      },
      "execution_count": null,
      "outputs": [
        {
          "output_type": "stream",
          "name": "stdout",
          "text": [
            "[\"Hi Saif, this is to inform you that I'm not well today\", \" I won't be coming to office, but I'm available on call\", ' Thanks']\n"
          ]
        }
      ]
    },
    {
      "cell_type": "code",
      "source": [
        "mail = \" \".join(sentences_in_mail)\n",
        "print(mail)"
      ],
      "metadata": {
        "colab": {
          "base_uri": "https://localhost:8080/"
        },
        "id": "fswSWZ63k5pz",
        "outputId": "66e31e79-a042-44c3-9473-3c656e854439"
      },
      "execution_count": null,
      "outputs": [
        {
          "output_type": "stream",
          "name": "stdout",
          "text": [
            "Hi Saif, this is to inform you that I'm not well today  I won't be coming to office, but I'm available on call  Thanks\n"
          ]
        }
      ]
    },
    {
      "cell_type": "code",
      "source": [
        "mail_new = \" & \".join(sentences_in_mail)\n",
        "print(mail_new)"
      ],
      "metadata": {
        "colab": {
          "base_uri": "https://localhost:8080/"
        },
        "id": "AfGk1dYTq_v_",
        "outputId": "94907207-d63f-404a-861b-5a50ecddff8c"
      },
      "execution_count": null,
      "outputs": [
        {
          "output_type": "stream",
          "name": "stdout",
          "text": [
            "Hi Saif, this is to inform you that I'm not well today &  I won't be coming to office, but I'm available on call &  Thanks\n"
          ]
        }
      ]
    },
    {
      "cell_type": "code",
      "source": [
        "my_list = [\"Hi\"]\n",
        "print(my_list*5)"
      ],
      "metadata": {
        "colab": {
          "base_uri": "https://localhost:8080/"
        },
        "id": "cJNQQcXXk5tM",
        "outputId": "66adcb72-d1b3-41cc-f415-2a56b0833a84"
      },
      "execution_count": null,
      "outputs": [
        {
          "output_type": "stream",
          "name": "stdout",
          "text": [
            "['Hi', 'Hi', 'Hi', 'Hi', 'Hi']\n"
          ]
        }
      ]
    },
    {
      "cell_type": "code",
      "source": [
        "print(my_list + my_list)"
      ],
      "metadata": {
        "colab": {
          "base_uri": "https://localhost:8080/"
        },
        "id": "W-C95tNyk5wE",
        "outputId": "da89ba6f-18e1-413c-c874-6b26a37c933e"
      },
      "execution_count": null,
      "outputs": [
        {
          "output_type": "stream",
          "name": "stdout",
          "text": [
            "['Hi', 'Hi']\n"
          ]
        }
      ]
    },
    {
      "cell_type": "code",
      "source": [
        "import ast, sys\n",
        "input_str = sys.stdin.read()\n",
        "input_str = 'I love Data Science & Python'\n",
        "output_list = input_str.split('&')\n",
        "print(output_list)"
      ],
      "metadata": {
        "colab": {
          "base_uri": "https://localhost:8080/"
        },
        "id": "QeQ9VtRCrpSa",
        "outputId": "186a170b-de72-4a30-aa38-382f717eae00"
      },
      "execution_count": null,
      "outputs": [
        {
          "output_type": "stream",
          "name": "stdout",
          "text": [
            "['I love Data Science ', ' Python']\n"
          ]
        }
      ]
    },
    {
      "cell_type": "code",
      "source": [
        "nums = [2,6,9,3,2,1]\n",
        "print(len(nums))"
      ],
      "metadata": {
        "colab": {
          "base_uri": "https://localhost:8080/"
        },
        "id": "XntlLZ9uvIQs",
        "outputId": "be6b15f7-8083-4ed4-d326-c4e0ca0af46b"
      },
      "execution_count": null,
      "outputs": [
        {
          "output_type": "stream",
          "name": "stdout",
          "text": [
            "6\n"
          ]
        }
      ]
    },
    {
      "cell_type": "code",
      "source": [
        "print(sorted(nums))"
      ],
      "metadata": {
        "colab": {
          "base_uri": "https://localhost:8080/"
        },
        "id": "DLgbs533vIZf",
        "outputId": "9b4a963c-94c9-412f-9f20-0481db2e9082"
      },
      "execution_count": null,
      "outputs": [
        {
          "output_type": "stream",
          "name": "stdout",
          "text": [
            "[1, 2, 2, 3, 6, 9]\n"
          ]
        }
      ]
    },
    {
      "cell_type": "code",
      "source": [
        "print(max(nums))"
      ],
      "metadata": {
        "colab": {
          "base_uri": "https://localhost:8080/"
        },
        "id": "tZyxM79ovIcR",
        "outputId": "8f850c09-de2b-463e-b921-fcf9cb916d8e"
      },
      "execution_count": null,
      "outputs": [
        {
          "output_type": "stream",
          "name": "stdout",
          "text": [
            "9\n"
          ]
        }
      ]
    },
    {
      "cell_type": "code",
      "source": [
        "print(min(nums))"
      ],
      "metadata": {
        "colab": {
          "base_uri": "https://localhost:8080/"
        },
        "id": "7j2P36PzvqGE",
        "outputId": "784c6b61-5e7e-49c2-bf8a-1155f5a3f046"
      },
      "execution_count": null,
      "outputs": [
        {
          "output_type": "stream",
          "name": "stdout",
          "text": [
            "1\n"
          ]
        }
      ]
    },
    {
      "cell_type": "code",
      "source": [
        "nest = [[1,2,3,4],[5,6,7],[8,9,10]]\n",
        "print(nest[1])"
      ],
      "metadata": {
        "colab": {
          "base_uri": "https://localhost:8080/"
        },
        "id": "abqHIVvcvqIw",
        "outputId": "702bda64-11e9-4442-af72-0649b899a93b"
      },
      "execution_count": null,
      "outputs": [
        {
          "output_type": "stream",
          "name": "stdout",
          "text": [
            "[5, 6, 7]\n"
          ]
        }
      ]
    },
    {
      "cell_type": "code",
      "source": [
        "print(nest[0][1])"
      ],
      "metadata": {
        "colab": {
          "base_uri": "https://localhost:8080/"
        },
        "id": "G2i9e5CW11ud",
        "outputId": "f2891d0d-1092-4cc2-d6e9-5fc19d8164de"
      },
      "execution_count": null,
      "outputs": [
        {
          "output_type": "stream",
          "name": "stdout",
          "text": [
            "2\n"
          ]
        }
      ]
    },
    {
      "cell_type": "code",
      "source": [
        "print(nest[0:2])"
      ],
      "metadata": {
        "colab": {
          "base_uri": "https://localhost:8080/"
        },
        "id": "S6LXhmhV112r",
        "outputId": "c8081972-4769-4dc5-e34a-c1d4c9eb699e"
      },
      "execution_count": null,
      "outputs": [
        {
          "output_type": "stream",
          "name": "stdout",
          "text": [
            "[[1, 2, 3, 4], [5, 6, 7]]\n"
          ]
        }
      ]
    },
    {
      "cell_type": "code",
      "source": [
        "import ast, sys\n",
        "input_str = (sys.stdin.read()).split(',')\n",
        "input_str = 'Python syntax is easy to learn' , 'Python syntax is very clear'\n",
        "string_1 = \" & \".join(input_str)\n",
        "print(string_1)"
      ],
      "metadata": {
        "colab": {
          "base_uri": "https://localhost:8080/"
        },
        "id": "a1JpWEJm2ilT",
        "outputId": "d430879b-c87a-48e3-e843-741ab2c01899"
      },
      "execution_count": null,
      "outputs": [
        {
          "output_type": "stream",
          "name": "stdout",
          "text": [
            "Python syntax is easy to learn & Python syntax is very clear\n"
          ]
        }
      ]
    },
    {
      "cell_type": "code",
      "source": [
        "import ast, sys\n",
        "input_str = sys.stdin.read()\n",
        "input_list = [['SAS','R'],['Tableau','SQL'],['Python','Java']]\n",
        "answer = input_list[2][0]\n",
        "print(answer)"
      ],
      "metadata": {
        "colab": {
          "base_uri": "https://localhost:8080/"
        },
        "id": "ywL5-M--HmFH",
        "outputId": "90b35563-40e8-4d0a-fc9f-f0be1b970907"
      },
      "execution_count": 10,
      "outputs": [
        {
          "output_type": "stream",
          "name": "stdout",
          "text": [
            "Python\n"
          ]
        }
      ]
    },
    {
      "cell_type": "code",
      "source": [
        "first_tuple = (\"Monty Python\", 30, \"Baker Street\", 5.8)\n",
        "print(first_tuple[0])"
      ],
      "metadata": {
        "colab": {
          "base_uri": "https://localhost:8080/"
        },
        "id": "SwIIZ6NDHmKJ",
        "outputId": "fa76333f-25e4-4654-803a-d252500bce97"
      },
      "execution_count": 1,
      "outputs": [
        {
          "output_type": "stream",
          "name": "stdout",
          "text": [
            "Monty Python\n"
          ]
        }
      ]
    },
    {
      "cell_type": "code",
      "source": [
        "city_tuple = (\"Mumbai\", 18.9949521, 72.8141853)\n",
        "print(city_tuple)"
      ],
      "metadata": {
        "colab": {
          "base_uri": "https://localhost:8080/"
        },
        "id": "9pRec7iqsFMv",
        "outputId": "cfde9529-f960-4bcd-bca1-5938c5118b17"
      },
      "execution_count": 2,
      "outputs": [
        {
          "output_type": "stream",
          "name": "stdout",
          "text": [
            "('Mumbai', 18.9949521, 72.8141853)\n"
          ]
        }
      ]
    },
    {
      "cell_type": "code",
      "source": [
        "new_tuple = city_tuple\n",
        "print(new_tuple)"
      ],
      "metadata": {
        "colab": {
          "base_uri": "https://localhost:8080/"
        },
        "id": "6QNhK-wAsFQR",
        "outputId": "c48bed45-b106-49f1-a371-7a8ff7fe5fb7"
      },
      "execution_count": 3,
      "outputs": [
        {
          "output_type": "stream",
          "name": "stdout",
          "text": [
            "('Mumbai', 18.9949521, 72.8141853)\n"
          ]
        }
      ]
    },
    {
      "cell_type": "code",
      "source": [
        "new_tuple[1] = 13.8877"
      ],
      "metadata": {
        "colab": {
          "base_uri": "https://localhost:8080/",
          "height": 146
        },
        "id": "H-KujBoPti2v",
        "outputId": "e796d124-6d3e-49aa-f362-375207d5bdcd"
      },
      "execution_count": 4,
      "outputs": [
        {
          "output_type": "error",
          "ename": "TypeError",
          "evalue": "'tuple' object does not support item assignment",
          "traceback": [
            "\u001b[0;31m---------------------------------------------------------------------------\u001b[0m",
            "\u001b[0;31mTypeError\u001b[0m                                 Traceback (most recent call last)",
            "\u001b[0;32m<ipython-input-4-44a3e32d1d19>\u001b[0m in \u001b[0;36m<cell line: 1>\u001b[0;34m()\u001b[0m\n\u001b[0;32m----> 1\u001b[0;31m \u001b[0mnew_tuple\u001b[0m\u001b[0;34m[\u001b[0m\u001b[0;36m1\u001b[0m\u001b[0;34m]\u001b[0m \u001b[0;34m=\u001b[0m \u001b[0;36m13.8877\u001b[0m\u001b[0;34m\u001b[0m\u001b[0;34m\u001b[0m\u001b[0m\n\u001b[0m",
            "\u001b[0;31mTypeError\u001b[0m: 'tuple' object does not support item assignment"
          ]
        }
      ]
    },
    {
      "cell_type": "code",
      "source": [
        "b = city_tuple[:-1]\n",
        "print(b)\n",
        "print(len(b))"
      ],
      "metadata": {
        "colab": {
          "base_uri": "https://localhost:8080/"
        },
        "id": "3PjD6qCJti5p",
        "outputId": "d68b1099-0a75-44d6-d5fa-7a4c4f9dbdce"
      },
      "execution_count": 7,
      "outputs": [
        {
          "output_type": "stream",
          "name": "stdout",
          "text": [
            "('Mumbai', 18.9949521)\n",
            "2\n"
          ]
        }
      ]
    },
    {
      "cell_type": "code",
      "source": [
        "c = list(b)\n",
        "print(\"c is: {0}\".format(c))\n",
        "c = tuple(c)\n",
        "print(\"c is now a tuple: {0}\".format(c))"
      ],
      "metadata": {
        "colab": {
          "base_uri": "https://localhost:8080/"
        },
        "id": "6D5KpyxhvjBX",
        "outputId": "512d737b-deb6-4a3a-88a7-d355ca3beb23"
      },
      "execution_count": 6,
      "outputs": [
        {
          "output_type": "stream",
          "name": "stdout",
          "text": [
            "c is: ['Mumbai', 18.9949521]\n",
            "c is now a tuple: ('Mumbai', 18.9949521)\n"
          ]
        }
      ]
    },
    {
      "cell_type": "code",
      "source": [
        "empty_dictionary = {}\n",
        "print(type(empty_dictionary))"
      ],
      "metadata": {
        "colab": {
          "base_uri": "https://localhost:8080/"
        },
        "id": "C7tzVPJ0KZ6b",
        "outputId": "c1c13ae0-d29b-41d9-9318-23dc022d4e29"
      },
      "execution_count": 10,
      "outputs": [
        {
          "output_type": "stream",
          "name": "stdout",
          "text": [
            "<class 'dict'>\n"
          ]
        }
      ]
    },
    {
      "cell_type": "code",
      "source": [
        "bio_data = {'Name': 'Bob Marley', 'Age':35, 'Height':\"5.6 ft\", 'Hobby':'Music'}\n",
        "print(bio_data)"
      ],
      "metadata": {
        "colab": {
          "base_uri": "https://localhost:8080/"
        },
        "id": "sU1zLK4NKZ-e",
        "outputId": "36f363dc-2be3-4f8d-da0c-8597a0bc6c8a"
      },
      "execution_count": 1,
      "outputs": [
        {
          "output_type": "stream",
          "name": "stdout",
          "text": [
            "{'Name': 'Bob Marley', 'Age': 35, 'Height': '5.6 ft', 'Hobby': 'Music'}\n"
          ]
        }
      ]
    },
    {
      "cell_type": "code",
      "source": [
        "credentials = { 'UserA' : 'wkliopnc', 'UserB': 98760, 'UserC':98760}"
      ],
      "metadata": {
        "id": "vlxM-nXfvyXe"
      },
      "execution_count": 2,
      "outputs": []
    },
    {
      "cell_type": "code",
      "source": [
        "hobby = bio_data['Hobby']\n",
        "print(hobby)"
      ],
      "metadata": {
        "colab": {
          "base_uri": "https://localhost:8080/"
        },
        "id": "JHpvkJayvyZw",
        "outputId": "fa243c70-5315-4d8d-a1d7-1e6533192c94"
      },
      "execution_count": 3,
      "outputs": [
        {
          "output_type": "stream",
          "name": "stdout",
          "text": [
            "Music\n"
          ]
        }
      ]
    },
    {
      "cell_type": "code",
      "source": [
        "age = bio_data['Age']\n",
        "print(age)"
      ],
      "metadata": {
        "colab": {
          "base_uri": "https://localhost:8080/"
        },
        "id": "9M6ne7lMvycu",
        "outputId": "b1664463-90eb-4c49-bc93-0a64c1a76272"
      },
      "execution_count": 4,
      "outputs": [
        {
          "output_type": "stream",
          "name": "stdout",
          "text": [
            "35\n"
          ]
        }
      ]
    },
    {
      "cell_type": "code",
      "source": [
        "age = bio_data.get('Age')\n",
        "print(age)"
      ],
      "metadata": {
        "colab": {
          "base_uri": "https://localhost:8080/"
        },
        "id": "7rQ-qS3VwbmE",
        "outputId": "f58e7cc1-2a0b-415e-dcc3-2ccf7e524d95"
      },
      "execution_count": 5,
      "outputs": [
        {
          "output_type": "stream",
          "name": "stdout",
          "text": [
            "35\n"
          ]
        }
      ]
    },
    {
      "cell_type": "code",
      "source": [
        "profession = bio_data.get('Profession','NA')\n",
        "print(profession)"
      ],
      "metadata": {
        "colab": {
          "base_uri": "https://localhost:8080/"
        },
        "id": "1Ks3C7OtwbpK",
        "outputId": "82260145-13d2-4532-ddc6-192ddd7d0cc6"
      },
      "execution_count": 7,
      "outputs": [
        {
          "output_type": "stream",
          "name": "stdout",
          "text": [
            "NA\n"
          ]
        }
      ]
    },
    {
      "cell_type": "code",
      "source": [
        "bio_data['Age'] = 36\n",
        "print(bio_data)"
      ],
      "metadata": {
        "colab": {
          "base_uri": "https://localhost:8080/"
        },
        "id": "Q13v-SEHwymH",
        "outputId": "e3016546-c1cc-4c6b-8c8a-43f5376c2c70"
      },
      "execution_count": 8,
      "outputs": [
        {
          "output_type": "stream",
          "name": "stdout",
          "text": [
            "{'Name': 'Bob Marley', 'Age': 36, 'Height': '5.6 ft', 'Hobby': 'Music'}\n"
          ]
        }
      ]
    },
    {
      "cell_type": "code",
      "source": [
        "input_dict = {'Name':'Monty','Profession':'Singer'}"
      ],
      "metadata": {
        "id": "0WxpoN9PJaCo"
      },
      "execution_count": 14,
      "outputs": []
    },
    {
      "cell_type": "code",
      "source": [
        "import ast,sys\n",
        "input_str = sys.stdin.read()\n",
        "answer = input_dict.get('Label','NA')\n",
        "print(answer)"
      ],
      "metadata": {
        "colab": {
          "base_uri": "https://localhost:8080/"
        },
        "id": "qd6d8zb1b2sm",
        "outputId": "4a483446-a3dc-4074-e94a-a4e9a79ac99a"
      },
      "execution_count": 15,
      "outputs": [
        {
          "output_type": "stream",
          "name": "stdout",
          "text": [
            "NA\n"
          ]
        }
      ]
    },
    {
      "cell_type": "code",
      "source": [
        "#add a key, val\n",
        "bio_data['Profession'] = 'Singer'\n",
        "print(bio_data)"
      ],
      "metadata": {
        "colab": {
          "base_uri": "https://localhost:8080/"
        },
        "id": "DX1uCtgCg_ee",
        "outputId": "e3581697-250a-4e40-bcf7-330032ae6973"
      },
      "execution_count": 16,
      "outputs": [
        {
          "output_type": "stream",
          "name": "stdout",
          "text": [
            "{'Name': 'Bob Marley', 'Age': 36, 'Height': '5.6 ft', 'Hobby': 'Music', 'Profession': 'Singer'}\n"
          ]
        }
      ]
    },
    {
      "cell_type": "code",
      "source": [
        "print('Profession' in bio_data)"
      ],
      "metadata": {
        "colab": {
          "base_uri": "https://localhost:8080/"
        },
        "id": "nIn2ji3ug_iJ",
        "outputId": "67d9587d-58ab-4ec5-ecbf-0151ee3a9b79"
      },
      "execution_count": 17,
      "outputs": [
        {
          "output_type": "stream",
          "name": "stdout",
          "text": [
            "True\n"
          ]
        }
      ]
    },
    {
      "cell_type": "code",
      "source": [
        "#get list of keys\n",
        "print(list(bio_data.keys()))\n",
        "\n",
        "#get list of values\n",
        "print(list(bio_data.values()))"
      ],
      "metadata": {
        "colab": {
          "base_uri": "https://localhost:8080/"
        },
        "id": "lHhbk8aWg_kX",
        "outputId": "fb6fc95f-e752-41d8-e65c-446b7c686694"
      },
      "execution_count": 18,
      "outputs": [
        {
          "output_type": "stream",
          "name": "stdout",
          "text": [
            "['Name', 'Age', 'Height', 'Hobby', 'Profession']\n",
            "['Bob Marley', 36, '5.6 ft', 'Music', 'Singer']\n"
          ]
        }
      ]
    },
    {
      "cell_type": "code",
      "source": [
        "new_dictionary = dict(Country = 'Jamaica', Songs =['One Love','Misty Morning'])"
      ],
      "metadata": {
        "id": "r5zIcDtOkaaW"
      },
      "execution_count": 19,
      "outputs": []
    },
    {
      "cell_type": "code",
      "source": [
        "bio_data.update(new_dictionary)\n",
        "print(bio_data)"
      ],
      "metadata": {
        "colab": {
          "base_uri": "https://localhost:8080/"
        },
        "id": "iX4regqdkag7",
        "outputId": "35657d16-8cbc-49bb-b407-28a920975f37"
      },
      "execution_count": 20,
      "outputs": [
        {
          "output_type": "stream",
          "name": "stdout",
          "text": [
            "{'Name': 'Bob Marley', 'Age': 36, 'Height': '5.6 ft', 'Hobby': 'Music', 'Profession': 'Singer', 'Country': 'Jamaica', 'Songs': ['One Love', 'Misty Morning']}\n"
          ]
        }
      ]
    },
    {
      "cell_type": "code",
      "source": [
        "del bio_data['Songs']\n",
        "print(bio_data)"
      ],
      "metadata": {
        "colab": {
          "base_uri": "https://localhost:8080/"
        },
        "id": "3Z9Spgw-kasD",
        "outputId": "2b89addd-3f25-4993-ca1d-59f6fd2fa8dd"
      },
      "execution_count": 21,
      "outputs": [
        {
          "output_type": "stream",
          "name": "stdout",
          "text": [
            "{'Name': 'Bob Marley', 'Age': 36, 'Height': '5.6 ft', 'Hobby': 'Music', 'Profession': 'Singer', 'Country': 'Jamaica'}\n"
          ]
        }
      ]
    },
    {
      "cell_type": "code",
      "source": [
        "students_data = { 1:['Shivam Bansal',24] , 2:['Udit Bansal',25] , 3:['Sonam Gupta',26] , 4:['Saif Ansari',24] , 5:['Huzefa Calcuttawala',27]}\n",
        "print(students_data)"
      ],
      "metadata": {
        "colab": {
          "base_uri": "https://localhost:8080/"
        },
        "id": "cDotwxCRlVU0",
        "outputId": "35733081-63a0-47c3-f122-48f89d7fc4e9"
      },
      "execution_count": 24,
      "outputs": [
        {
          "output_type": "stream",
          "name": "stdout",
          "text": [
            "{1: ['Shivam Bansal', 24], 2: ['Udit Bansal', 25], 3: ['Sonam Gupta', 26], 4: ['Saif Ansari', 24], 5: ['Huzefa Calcuttawala', 27]}\n"
          ]
        }
      ]
    },
    {
      "cell_type": "code",
      "source": [
        "print(len(students_data))"
      ],
      "metadata": {
        "colab": {
          "base_uri": "https://localhost:8080/"
        },
        "id": "URNKOQgklVX0",
        "outputId": "89ab07a8-5f37-4206-8ba3-1eab1af541cc"
      },
      "execution_count": 25,
      "outputs": [
        {
          "output_type": "stream",
          "name": "stdout",
          "text": [
            "5\n"
          ]
        }
      ]
    },
    {
      "cell_type": "code",
      "source": [
        "#see all the details of students.\n",
        "print(list(students_data.values()))"
      ],
      "metadata": {
        "colab": {
          "base_uri": "https://localhost:8080/"
        },
        "id": "Qke6j8QQmZzY",
        "outputId": "f7772884-501f-4185-b1a3-4c0c66f2b829"
      },
      "execution_count": 26,
      "outputs": [
        {
          "output_type": "stream",
          "name": "stdout",
          "text": [
            "[['Shivam Bansal', 24], ['Udit Bansal', 25], ['Sonam Gupta', 26], ['Saif Ansari', 24], ['Huzefa Calcuttawala', 27]]\n"
          ]
        }
      ]
    },
    {
      "cell_type": "code",
      "source": [
        "students_data[6] = ['Manasi Sharma', 22]\n",
        "print(students_data)"
      ],
      "metadata": {
        "colab": {
          "base_uri": "https://localhost:8080/"
        },
        "id": "dIjNC-7emZ3t",
        "outputId": "d4ac095d-9896-42ab-cc1e-efc953b2292a"
      },
      "execution_count": 27,
      "outputs": [
        {
          "output_type": "stream",
          "name": "stdout",
          "text": [
            "{1: ['Shivam Bansal', 24], 2: ['Udit Bansal', 25], 3: ['Sonam Gupta', 26], 4: ['Saif Ansari', 24], 5: ['Huzefa Calcuttawala', 27], 6: ['Manasi Sharma', 22]}\n"
          ]
        }
      ]
    },
    {
      "cell_type": "code",
      "source": [
        "del students_data[2]\n",
        "print(students_data)"
      ],
      "metadata": {
        "colab": {
          "base_uri": "https://localhost:8080/"
        },
        "id": "-M5jwvpRmaDR",
        "outputId": "4ddadc3c-9f95-428b-edee-ed19afb78a23"
      },
      "execution_count": 28,
      "outputs": [
        {
          "output_type": "stream",
          "name": "stdout",
          "text": [
            "{1: ['Shivam Bansal', 24], 3: ['Sonam Gupta', 26], 4: ['Saif Ansari', 24], 5: ['Huzefa Calcuttawala', 27], 6: ['Manasi Sharma', 22]}\n"
          ]
        }
      ]
    },
    {
      "cell_type": "code",
      "source": [
        "print(list(students_data.keys()))"
      ],
      "metadata": {
        "colab": {
          "base_uri": "https://localhost:8080/"
        },
        "id": "ED70Eam0nQc8",
        "outputId": "d24671cf-c405-4769-fa6c-5ea9a0c89fc0"
      },
      "execution_count": 29,
      "outputs": [
        {
          "output_type": "stream",
          "name": "stdout",
          "text": [
            "[1, 3, 4, 5, 6]\n"
          ]
        }
      ]
    },
    {
      "cell_type": "code",
      "source": [
        "students_list = ['A','A','B','C','C','E','N']"
      ],
      "metadata": {
        "id": "ZFdCSgiHnQfz"
      },
      "execution_count": 8,
      "outputs": []
    },
    {
      "cell_type": "code",
      "source": [
        "students_set = set(students_list)\n",
        "print(students_set)"
      ],
      "metadata": {
        "colab": {
          "base_uri": "https://localhost:8080/"
        },
        "id": "Q134Bc3ERxqO",
        "outputId": "b6e8ec1c-f410-42b2-f0a4-a9ef9c90dd53"
      },
      "execution_count": 10,
      "outputs": [
        {
          "output_type": "stream",
          "name": "stdout",
          "text": [
            "{'B', 'A', 'N', 'E', 'C'}\n"
          ]
        }
      ]
    },
    {
      "cell_type": "code",
      "source": [
        "print(type(students_set))"
      ],
      "metadata": {
        "colab": {
          "base_uri": "https://localhost:8080/"
        },
        "id": "RuuW_-1sRxxC",
        "outputId": "e239a1ec-3477-43ac-80d9-0e84104e87b6"
      },
      "execution_count": 11,
      "outputs": [
        {
          "output_type": "stream",
          "name": "stdout",
          "text": [
            "<class 'set'>\n"
          ]
        }
      ]
    },
    {
      "cell_type": "code",
      "source": [
        "students_list_2 = ['A','N','F','N','G','A']"
      ],
      "metadata": {
        "id": "0NZu9loARx0x"
      },
      "execution_count": 12,
      "outputs": []
    },
    {
      "cell_type": "code",
      "source": [
        "students_set_2 = set(students_list_2)\n",
        "print(students_set_2)"
      ],
      "metadata": {
        "colab": {
          "base_uri": "https://localhost:8080/"
        },
        "id": "rdsL3BuvS8sK",
        "outputId": "e8b47562-1f96-468b-9446-84c5cc3a2959"
      },
      "execution_count": 15,
      "outputs": [
        {
          "output_type": "stream",
          "name": "stdout",
          "text": [
            "{'G', 'F', 'A', 'N'}\n"
          ]
        }
      ]
    },
    {
      "cell_type": "code",
      "source": [
        "print(students_set.intersection(students_set_2))"
      ],
      "metadata": {
        "colab": {
          "base_uri": "https://localhost:8080/"
        },
        "id": "MPFFpCc_S8wA",
        "outputId": "40707a9d-1368-4026-8ec4-480d33da07da"
      },
      "execution_count": 14,
      "outputs": [
        {
          "output_type": "stream",
          "name": "stdout",
          "text": [
            "{'A', 'N'}\n"
          ]
        }
      ]
    },
    {
      "cell_type": "code",
      "source": [
        "print(students_set.union(students_set_2))"
      ],
      "metadata": {
        "colab": {
          "base_uri": "https://localhost:8080/"
        },
        "id": "kBObgdqTS80E",
        "outputId": "7b51f9e5-3548-4bfa-c9c2-47af86820fa4"
      },
      "execution_count": 16,
      "outputs": [
        {
          "output_type": "stream",
          "name": "stdout",
          "text": [
            "{'B', 'F', 'A', 'N', 'E', 'C', 'G'}\n"
          ]
        }
      ]
    },
    {
      "cell_type": "code",
      "source": [
        "print(students_set.difference(students_set_2))"
      ],
      "metadata": {
        "colab": {
          "base_uri": "https://localhost:8080/"
        },
        "id": "l2GuiedsUDuj",
        "outputId": "41f29670-10b2-4a9f-fd68-8d36bbd765d3"
      },
      "execution_count": 17,
      "outputs": [
        {
          "output_type": "stream",
          "name": "stdout",
          "text": [
            "{'C', 'B', 'E'}\n"
          ]
        }
      ]
    },
    {
      "cell_type": "code",
      "source": [
        "input_list = [[1, 2, 3, 4, 5,6],[2,3,4, 5, 6, 7, 8,9]]\n"
      ],
      "metadata": {
        "id": "8n1TkIchwKMC"
      },
      "execution_count": 23,
      "outputs": []
    },
    {
      "cell_type": "code",
      "source": [
        "import ast,sys\n",
        "input_str = sys.stdin.read()\n",
        "\n",
        "\n",
        "list_1 = input_list[0]\n",
        "list_2 = input_list[1]\n",
        "\n",
        "set_1 = set(list_1)\n",
        "set_2 = set(list_2)\n",
        "answer_1 = sorted(list(set_1.difference(set_2)))\n",
        "answer_2 = sorted(list(set_1.symmetric_difference(set_2)))\n",
        "\n",
        "print(answer_1)\n",
        "print(answer_2)"
      ],
      "metadata": {
        "colab": {
          "base_uri": "https://localhost:8080/"
        },
        "id": "aPr8nNcOvN60",
        "outputId": "afdf3be7-e923-438e-b3de-8642897d70ae"
      },
      "execution_count": 24,
      "outputs": [
        {
          "output_type": "stream",
          "name": "stdout",
          "text": [
            "[1]\n",
            "[1, 7, 8, 9]\n"
          ]
        }
      ]
    }
  ]
}